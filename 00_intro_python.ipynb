{
  "nbformat": 4,
  "nbformat_minor": 0,
  "metadata": {
    "colab": {
      "provenance": [],
      "authorship_tag": "ABX9TyNhZSWXJBzeBq05FFhrXdg+",
      "include_colab_link": true
    },
    "kernelspec": {
      "name": "python3",
      "display_name": "Python 3"
    },
    "language_info": {
      "name": "python"
    }
  },
  "cells": [
    {
      "cell_type": "markdown",
      "metadata": {
        "id": "view-in-github",
        "colab_type": "text"
      },
      "source": [
        "<a href=\"https://colab.research.google.com/github/MuhammadTabishAli/GIAIC_Assignment4/blob/main/00_intro_python.ipynb\" target=\"_parent\"><img src=\"https://colab.research.google.com/assets/colab-badge.svg\" alt=\"Open In Colab\"/></a>"
      ]
    },
    {
      "cell_type": "code",
      "execution_count": 4,
      "metadata": {
        "colab": {
          "base_uri": "https://localhost:8080/"
        },
        "id": "YKXwuIOUM36J",
        "outputId": "aa484d8b-bd05-429a-9052-f19a4b091088"
      },
      "outputs": [
        {
          "output_type": "stream",
          "name": "stdout",
          "text": [
            "This program adds two numbers.\n",
            "Enter first number: 2\n",
            "Enter second number: 3\n",
            "The total is 5.\n"
          ]
        }
      ],
      "source": [
        "#01_add_two_numbers\n",
        "\n",
        "def main():\n",
        "    print(\"This program adds two numbers.\")\n",
        "    num1: int = int(input(\"Enter first number: \"))\n",
        "    num2: int = int(input(\"Enter second number: \"))\n",
        "    total : int = num1 + num2\n",
        "    print(\"The total is \" + str(total) + \".\")\n",
        "\n",
        "if __name__ == '__main__':\n",
        "    main()"
      ]
    },
    {
      "cell_type": "code",
      "source": [
        "#02_agreement_bot\n",
        "\n",
        "def main():\n",
        "    animal = input(\"What's your favorite animal? \")\n",
        "    print(\"My favorite animal is also \" + animal + \"!\")\n",
        "\n",
        "if __name__ == '__main__':\n",
        "    main()\n"
      ],
      "metadata": {
        "colab": {
          "base_uri": "https://localhost:8080/"
        },
        "id": "Y8sB01dSQSTJ",
        "outputId": "33c66ca4-22f0-45be-af49-346feee9d61d"
      },
      "execution_count": 5,
      "outputs": [
        {
          "output_type": "stream",
          "name": "stdout",
          "text": [
            "What's your favorite animal? goat\n",
            "My favorite animal is also goat!\n"
          ]
        }
      ]
    }
  ]
}