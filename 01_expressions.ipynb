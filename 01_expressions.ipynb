{
  "nbformat": 4,
  "nbformat_minor": 0,
  "metadata": {
    "colab": {
      "provenance": [],
      "authorship_tag": "ABX9TyOAhsYAhrs1sDCzjDhKPJ6R"
    },
    "kernelspec": {
      "name": "python3",
      "display_name": "Python 3"
    },
    "language_info": {
      "name": "python"
    }
  },
  "cells": [
    {
      "cell_type": "code",
      "execution_count": 7,
      "metadata": {
        "colab": {
          "base_uri": "https://localhost:8080/"
        },
        "id": "GWH0B_SXICT3",
        "outputId": "1bcd0ec1-cd33-46ac-c450-204b7dd4635a"
      },
      "outputs": [
        {
          "output_type": "stream",
          "name": "stdout",
          "text": [
            "die1 in main() starts as: 10\n",
            "Total of two dice: 4\n",
            "Total of two dice: 6\n",
            "Total of two dice: 7\n",
            "die1 in main() is: 10\n"
          ]
        }
      ],
      "source": [
        "#01_dicesimulator\n",
        "\n",
        "import random\n",
        "\n",
        "\n",
        "NUM_SIDES = 6\n",
        "\n",
        "def roll_dice():\n",
        "\n",
        "    die1: int = random.randint(1, NUM_SIDES)\n",
        "    die2: int = random.randint(1, NUM_SIDES)\n",
        "    total: int = die1 + die2\n",
        "    print(\"Total of two dice:\", total)\n",
        "\n",
        "def main():\n",
        "    die1: int = 10\n",
        "    print(\"die1 in main() starts as: \" + str(die1))\n",
        "    roll_dice()\n",
        "    roll_dice()\n",
        "    roll_dice()\n",
        "    print(\"die1 in main() is: \" + str(die1))\n",
        "\n",
        "if __name__ == '__main__':\n",
        "    main()"
      ]
    },
    {
      "cell_type": "code",
      "source": [
        "#02_e=mc2\n",
        "\n",
        "C: int = 299792458  # The speed of light in m/s\n",
        "\n",
        "def main():\n",
        "    mass_in_kg: float = float(input(\"Enter kilos of mass: \"))\n",
        "\n",
        "\n",
        "    energy_in_joules: float = mass_in_kg * (C ** 2)\n",
        "\n",
        "\n",
        "    print(\"e = m * C^2...\")\n",
        "    print(\"m = \" + str(mass_in_kg) + \" kg\")\n",
        "    print(\"C = \" + str(C) + \" m/s\")\n",
        "\n",
        "    print(str(energy_in_joules) + \" joules of energy!\")\n",
        "\n",
        "\n",
        "if __name__ == '__main__':\n",
        "    main()"
      ],
      "metadata": {
        "colab": {
          "base_uri": "https://localhost:8080/"
        },
        "id": "GBpNc6WWIu1D",
        "outputId": "15553c43-8601-418b-c27c-507d6cf2f55a"
      },
      "execution_count": 8,
      "outputs": [
        {
          "output_type": "stream",
          "name": "stdout",
          "text": [
            "Enter kilos of mass: 7\n",
            "e = m * C^2...\n",
            "m = 7.0 kg\n",
            "C = 299792458 m/s\n",
            "6.291286251157723e+17 joules of energy!\n"
          ]
        }
      ]
    },
    {
      "cell_type": "code",
      "source": [
        "#03_feet_to_inches\n",
        "\n",
        "INCHES_IN_FOOT: int = 12  # Conversion factor. There are 12 inches for 1 foot.\n",
        "\n",
        "def main():\n",
        "    feet: float = float(input(\"Enter number of feet: \"))\n",
        "    inches: float = feet * INCHES_IN_FOOT\n",
        "    print(\"That is\", inches, \"inches!\")\n",
        "\n",
        "\n",
        "if __name__ == '__main__':\n",
        "    main()"
      ],
      "metadata": {
        "colab": {
          "base_uri": "https://localhost:8080/"
        },
        "id": "aTqSlCbjJG7j",
        "outputId": "a8f7c06c-9d44-4f93-b6b9-bb8f29866a11"
      },
      "execution_count": 9,
      "outputs": [
        {
          "output_type": "stream",
          "name": "stdout",
          "text": [
            "Enter number of feet: 5\n",
            "That is 60.0 inches!\n"
          ]
        }
      ]
    },
    {
      "cell_type": "code",
      "source": [
        "#04_pythagorean_theorem\n",
        "\n",
        "import math\n",
        "\n",
        "def main():\n",
        "\n",
        "    ab: float = float(input(\"Enter the length of AB: \"))\n",
        "    ac: float = float(input(\"Enter the length of AC: \"))\n",
        "\n",
        "    bc: float = math.sqrt(ab**2 + ac**2)\n",
        "    print(\"The length of BC (the hypotenuse) is: \" + str(bc))\n",
        "\n",
        "\n",
        "if __name__ == '__main__':\n",
        "    main()"
      ],
      "metadata": {
        "colab": {
          "base_uri": "https://localhost:8080/"
        },
        "id": "_rqh9KkAJT_1",
        "outputId": "ece9f0c2-9cb0-4126-c04b-1edeab3fa190"
      },
      "execution_count": 10,
      "outputs": [
        {
          "output_type": "stream",
          "name": "stdout",
          "text": [
            "Enter the length of AB: 16\n",
            "Enter the length of AC: 19\n",
            "The length of BC (the hypotenuse) is: 24.839484696748443\n"
          ]
        }
      ]
    },
    {
      "cell_type": "code",
      "source": [
        "#05_remainder_division\n",
        "\n",
        "def main():\n",
        "    dividend: int = int(input(\"Please enter an integer to be divided: \"))\n",
        "    divisor: int = int(input(\"Please enter an integer to divide by: \"))\n",
        "\n",
        "    quotient: int = dividend // divisor  # Divide with no remainder/decimals (integer division)\n",
        "    remainder: int = dividend % divisor  # Get the remainder of the division (modulo)\n",
        "\n",
        "    print(\"The result of this division is \" + str(quotient) + \" with a remainder of \" + str(remainder))\n",
        "\n",
        "\n",
        "if __name__ == '__main__':\n",
        "    main()"
      ],
      "metadata": {
        "colab": {
          "base_uri": "https://localhost:8080/"
        },
        "id": "I9sXWtiOJi-b",
        "outputId": "0727227a-c528-4eb6-98ee-965e5551745d"
      },
      "execution_count": 11,
      "outputs": [
        {
          "output_type": "stream",
          "name": "stdout",
          "text": [
            "Please enter an integer to be divided: 7\n",
            "Please enter an integer to divide by: 2\n",
            "The result of this division is 3 with a remainder of 1\n"
          ]
        }
      ]
    },
    {
      "cell_type": "code",
      "source": [
        "#06_rolldice\n",
        "\n",
        "import random\n",
        "\n",
        "# Number of sides on each die to roll\n",
        "NUM_SIDES: int = 6\n",
        "\n",
        "def main():\n",
        "\n",
        "    die1: int = random.randint(1, NUM_SIDES)\n",
        "    die2: int = random.randint(1, NUM_SIDES)\n",
        "\n",
        "    total: int = die1 + die2\n",
        "\n",
        "    print(\"Dice have\", NUM_SIDES, \"sides each.\")\n",
        "    print(\"First die:\", die1)\n",
        "    print(\"Second die:\", die2)\n",
        "    print(\"Total of two dice:\", total)\n",
        "\n",
        "if __name__ == '__main__':\n",
        "    main()"
      ],
      "metadata": {
        "colab": {
          "base_uri": "https://localhost:8080/"
        },
        "id": "E2PTL7GRJtgt",
        "outputId": "cf6ef894-ab96-4bb7-bb63-b078b7ba063f"
      },
      "execution_count": 14,
      "outputs": [
        {
          "output_type": "stream",
          "name": "stdout",
          "text": [
            "Dice have 6 sides each.\n",
            "First die: 4\n",
            "Second die: 5\n",
            "Total of two dice: 9\n"
          ]
        }
      ]
    },
    {
      "cell_type": "code",
      "source": [
        "#06_seconds_in_year\n",
        "\n",
        "DAYS_PER_YEAR: int = 365\n",
        "HOURS_PER_DAY: int = 24\n",
        "MIN_PER_HOUR: int = 60\n",
        "SEC_PER_MIN: int = 60\n",
        "\n",
        "def main():\n",
        "    print(\"There are \" + str(DAYS_PER_YEAR * HOURS_PER_DAY * MIN_PER_HOUR * SEC_PER_MIN) + \" seconds in a year!\")\n",
        "\n",
        "\n",
        "if __name__ == '__main__':\n",
        "    main()"
      ],
      "metadata": {
        "colab": {
          "base_uri": "https://localhost:8080/"
        },
        "id": "k4_pZDlzJ6MA",
        "outputId": "3dc55149-c720-422a-ccb8-ad3a740e48c0"
      },
      "execution_count": 16,
      "outputs": [
        {
          "output_type": "stream",
          "name": "stdout",
          "text": [
            "There are 31536000 seconds in a year!\n"
          ]
        }
      ]
    },
    {
      "cell_type": "code",
      "source": [
        "#07_tiny_mad_lib\n",
        "\n",
        "SENTENCE_START: str = \"Panaversity is fun. I learned to program and used Python to make my \"\n",
        "\n",
        "def main():\n",
        "    # Get the three inputs from the user to make the adlib\n",
        "    adjective: str = input(\"Please type an adjective and press enter. \")\n",
        "    noun: str = input(\"Please type a noun and press enter. \")\n",
        "    verb: str = input(\"Please type a verb and press enter. \")\n",
        "\n",
        "    # Join the inputs together with the sentence starter\n",
        "    print(SENTENCE_START + adjective + \" \" + noun + \" \" + verb + \"!\")\n",
        "\n",
        "\n",
        "if __name__ == '__main__':\n",
        "    main()"
      ],
      "metadata": {
        "colab": {
          "base_uri": "https://localhost:8080/"
        },
        "id": "0oVqzXNZKEv9",
        "outputId": "e1b6a0ec-fc7c-4898-a665-60dd4ae9c938"
      },
      "execution_count": 18,
      "outputs": [
        {
          "output_type": "stream",
          "name": "stdout",
          "text": [
            "Please type an adjective and press enter. U\n",
            "Please type a noun and press enter. tabi\n",
            "Please type a verb and press enter. Work\n",
            "Panaversity is fun. I learned to program and used Python to make my U tabi Work!\n"
          ]
        }
      ]
    }
  ]
}