{
  "nbformat": 4,
  "nbformat_minor": 0,
  "metadata": {
    "colab": {
      "provenance": [],
      "authorship_tag": "ABX9TyPSMgd5ZMjc6WcvVpzRzSwA"
    },
    "kernelspec": {
      "name": "python3",
      "display_name": "Python 3"
    },
    "language_info": {
      "name": "python"
    }
  },
  "cells": [
    {
      "cell_type": "code",
      "execution_count": null,
      "metadata": {
        "id": "SxLV8YUaLpXW"
      },
      "outputs": [],
      "source": []
    },
    {
      "cell_type": "code",
      "source": [
        "#01_add_many_number\n",
        "\n",
        "def add_many_numbers(numbers)-> int:\n",
        "    \"\"\"\n",
        "    Takes in a list of numbers and returns the sum of those numbers.\n",
        "    \"\"\"\n",
        "\n",
        "    total_so_far: int = 0\n",
        "    for number in numbers:\n",
        "        total_so_far += number\n",
        "\n",
        "    return total_so_far\n",
        "\n",
        "\n",
        "def main():\n",
        "    numbers: list[int] = [1, 2, 3, 4, 5]\n",
        "    sum_of_numbers: int = add_many_numbers(numbers)\n",
        "    print(sum_of_numbers)\n",
        "\n",
        "if __name__ == '__main__':\n",
        "    main()"
      ],
      "metadata": {
        "colab": {
          "base_uri": "https://localhost:8080/"
        },
        "id": "tZpekf8ILxVl",
        "outputId": "0a81425b-aedc-484d-9c93-328840b02571"
      },
      "execution_count": 2,
      "outputs": [
        {
          "output_type": "stream",
          "name": "stdout",
          "text": [
            "15\n"
          ]
        }
      ]
    },
    {
      "cell_type": "code",
      "source": [
        "#02_double_list\n",
        "\n",
        "def main():\n",
        "    numbers: list[int] = [1, 2, 3, 4]  # Creates a list of numbers\n",
        "\n",
        "    for i in range(len(numbers)):\n",
        "        elem_at_index = numbers[i]\n",
        "        numbers[i] = elem_at_index * 2\n",
        "\n",
        "    print(numbers)\n",
        "\n",
        "if __name__ == '__main__':\n",
        "    main()"
      ],
      "metadata": {
        "colab": {
          "base_uri": "https://localhost:8080/"
        },
        "id": "RJqiOljiMFSD",
        "outputId": "dba108e4-e801-4f3e-a22e-005bc5a47fdd"
      },
      "execution_count": 4,
      "outputs": [
        {
          "output_type": "stream",
          "name": "stdout",
          "text": [
            "[2, 4, 6, 8]\n"
          ]
        }
      ]
    },
    {
      "cell_type": "code",
      "source": [
        "#03_erase_canvas\n",
        "\n",
        "## pip install graphics.py\n",
        "\n",
        "from graphics import Canvas\n",
        "import time\n",
        "\n",
        "CANVAS_WIDTH : int = 400\n",
        "CANVAS_HEIGHT : int = 400\n",
        "\n",
        "CELL_SIZE : int = 40\n",
        "ERASER_SIZE : int = 20\n",
        "\n",
        "def erase_objects(canvas, eraser):\n",
        "    mouse_x = canvas.get_mouse_x()\n",
        "    mouse_y = canvas.get_mouse_y()\n",
        "\n",
        "\n",
        "    left_x = mouse_x\n",
        "    top_y = mouse_y\n",
        "    right_x = left_x + ERASER_SIZE\n",
        "    bottom_y = top_y + ERASER_SIZE\n",
        "\n",
        "\n",
        "    overlapping_objects = canvas.find_overlapping(left_x, top_y, right_x, bottom_y)\n",
        "\n",
        "    for overlapping_object in overlapping_objects:\n",
        "        if overlapping_object != eraser:\n",
        "            canvas.set_color(overlapping_object, 'white')\n",
        "\n",
        "\n",
        "def main():\n",
        "    canvas = Canvas(CANVAS_WIDTH, CANVAS_HEIGHT)\n",
        "\n",
        "    num_rows = CANVAS_HEIGHT // CELL_SIZE\n",
        "    num_cols = CANVAS_WIDTH // CELL_SIZE\n",
        "\n",
        "    for row in range(num_rows):\n",
        "        for col in range(num_cols):\n",
        "            left_x = col * CELL_SIZE\n",
        "            top_y = row * CELL_SIZE\n",
        "            right_x = left_x + CELL_SIZE\n",
        "            bottom_y = top_y + CELL_SIZE\n",
        "\n",
        "            # Create a single cell in the grid\n",
        "            cell = canvas.create_rectangle(left_x, top_y, right_x, bottom_y, 'blue')\n",
        "\n",
        "\n",
        "    canvas.wait_for_click()\n",
        "\n",
        "    last_click_x, last_click_y = canvas.get_last_click()\n",
        "\n",
        "    # Create our eraser\n",
        "    eraser = canvas.create_rectangle(\n",
        "        last_click_x,\n",
        "        last_click_y,\n",
        "        last_click_x + ERASER_SIZE,\n",
        "        last_click_y + ERASER_SIZE,\n",
        "        'pink'\n",
        "    )\n",
        "\n",
        "    # Move the eraser, and erase what it's touching\n",
        "    while True:\n",
        "        # Get where our mouse is and move the eraser to there\n",
        "        mouse_x = canvas.get_mouse_x()\n",
        "        mouse_y = canvas.get_mouse_y()\n",
        "        canvas.moveto(eraser, mouse_x, mouse_y)\n",
        "\n",
        "        # Erase anything touching the eraser\n",
        "        erase_objects(canvas, eraser)\n",
        "\n",
        "        time.sleep(0.05)\n",
        "\n",
        "\n",
        "if __name__ == '__main__':\n",
        "    main()"
      ],
      "metadata": {
        "id": "4O-UVuFVMQZ-"
      },
      "execution_count": null,
      "outputs": []
    },
    {
      "cell_type": "code",
      "source": [
        "#04_flowing_with_data_structures\n",
        "\n",
        "def add_three_copies(my_list, data):\n",
        "    for i in range(3):\n",
        "        my_list.append(data)\n",
        "\n",
        "\n",
        "def main():\n",
        "    message = input(\"Enter a message to copy: \")\n",
        "    my_list = []\n",
        "    print(\"List before:\", my_list)\n",
        "    add_three_copies(my_list, message)\n",
        "    print(\"List after:\", my_list)\n",
        "\n",
        "if __name__ == \"__main__\":\n",
        "    main()"
      ],
      "metadata": {
        "id": "B_INSTB5Nh0G"
      },
      "execution_count": null,
      "outputs": []
    },
    {
      "cell_type": "code",
      "source": [
        "#05_get_first_element\n",
        "\n",
        "\n",
        "def get_first_element(lst):\n",
        "\n",
        "    if len(lst) > 0:\n",
        "        print(lst[0])\n",
        "    else:\n",
        "        print(\"The list is empty.\")\n",
        "\n",
        "\n",
        "def get_lst():\n",
        "\n",
        "    lst = []\n",
        "    elem = input(\"Please enter an element of the list or press enter to stop. \")\n",
        "    while elem != \"\":\n",
        "        lst.append(elem)\n",
        "        elem = input(\"Please enter an element of the list or press enter to stop. \")\n",
        "    return lst\n",
        "\n",
        "def main():\n",
        "    lst = get_lst()\n",
        "    get_first_element(lst)\n",
        "\n",
        "if __name__ == '__main__':\n",
        "    main()\n"
      ],
      "metadata": {
        "id": "0p8GWQyvNob7"
      },
      "execution_count": null,
      "outputs": []
    },
    {
      "cell_type": "code",
      "source": [
        "#06_get_last_element\n",
        "\n",
        "def get_last_element(lst):\n",
        "\n",
        "    print(lst[len(lst) - 1])\n",
        "\n",
        "def get_lst():\n",
        "\n",
        "\n",
        "    lst = []\n",
        "    elem = input(\"Please enter an element of the list or press enter to stop. \")\n",
        "    while elem != \"\":\n",
        "        lst.append(elem)\n",
        "        elem = input(\"Please enter an element of the list or press enter to stop. \")\n",
        "    return lst\n",
        "\n",
        "def main():\n",
        "    lst = get_lst()\n",
        "    get_last_element(lst)\n",
        "\n",
        "if __name__ == '__main__':\n",
        "    main()\n"
      ],
      "metadata": {
        "id": "7D03poS-OVKx"
      },
      "execution_count": null,
      "outputs": []
    },
    {
      "cell_type": "code",
      "source": [
        "#07_get_list\n",
        "\n",
        "def main():\n",
        "    lst = []  # Make an empty list to store things in\n",
        "\n",
        "    val = input(\"Enter a value: \")  # Get an initial value\n",
        "    while val:  # While the user input isn't an empty value\n",
        "        lst.append(val) # Add val to list\n",
        "        val = input(\"Enter a value: \")  # Get the next value to add\n",
        "\n",
        "    print(\"Here's the list:\", lst)\n",
        "\n",
        "\n",
        "if __name__ == '__main__':\n",
        "    main()"
      ],
      "metadata": {
        "id": "8dKiEmJfSNPw"
      },
      "execution_count": null,
      "outputs": []
    },
    {
      "cell_type": "code",
      "source": [
        "#08_shorten\n",
        "\n",
        "MAX_LENGTH : int = 3\n",
        "\n",
        "def shorten(lst):\n",
        "    while len(lst) > MAX_LENGTH:\n",
        "        last_elem = lst.pop()\n",
        "        print(last_elem)\n",
        "\n",
        "\n",
        "def get_lst():\n",
        "\n",
        "\n",
        "    lst = []\n",
        "    elem = input(\"Please enter an element of the list or press enter to stop. \")\n",
        "    while elem != \"\":\n",
        "        lst.append(elem)\n",
        "        elem = input(\"Please enter an element of the list or press enter to stop. \")\n",
        "    return lst\n",
        "\n",
        "def main():\n",
        "    lst = get_lst()\n",
        "    shorten(lst)\n",
        "\n",
        "\n",
        "if __name__ == '__main__':\n",
        "    main()"
      ],
      "metadata": {
        "id": "9Xu_ihvMSWJA"
      },
      "execution_count": null,
      "outputs": []
    }
  ]
}